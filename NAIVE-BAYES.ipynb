{
  "nbformat": 4,
  "nbformat_minor": 0,
  "metadata": {
    "colab": {
      "name": "IRWS PART B-NAIVE BAYES.ipynb",
      "provenance": [],
      "collapsed_sections": []
    },
    "kernelspec": {
      "name": "python3",
      "display_name": "Python 3"
    },
    "language_info": {
      "name": "python"
    }
  },
  "cells": [
    {
      "cell_type": "markdown",
      "metadata": {
        "id": "jbpO-bN94OuZ"
      },
      "source": [
        "**IMPORTING NECESSARY PACKAGES AND MODULES**"
      ]
    },
    {
      "cell_type": "code",
      "metadata": {
        "id": "tc3i_Klkq5nO",
        "colab": {
          "base_uri": "https://localhost:8080/"
        },
        "outputId": "415373a6-766d-408b-9202-84db9ae3278b"
      },
      "source": [
        "import pandas as pd\n",
        "from sklearn.feature_extraction.text import CountVectorizer\n",
        "import nltk\n",
        "from nltk.tokenize import word_tokenize\n",
        "import numpy\n",
        "\n",
        "nltk.download('punkt')\n"
      ],
      "execution_count": null,
      "outputs": [
        {
          "output_type": "stream",
          "text": [
            "[nltk_data] Downloading package punkt to /root/nltk_data...\n",
            "[nltk_data]   Package punkt is already up-to-date!\n"
          ],
          "name": "stdout"
        },
        {
          "output_type": "execute_result",
          "data": {
            "text/plain": [
              "True"
            ]
          },
          "metadata": {
            "tags": []
          },
          "execution_count": 77
        }
      ]
    },
    {
      "cell_type": "markdown",
      "metadata": {
        "id": "pvpxCALbpWgb"
      },
      "source": [
        "**DATA PREPARING** - copy pasting the exact data from google \n",
        "classroom assignment pdf."
      ]
    },
    {
      "cell_type": "code",
      "metadata": {
        "colab": {
          "base_uri": "https://localhost:8080/",
          "height": 201
        },
        "id": "1oEpfI6K83So",
        "outputId": "c6d3d5d2-569d-4d0e-f50b-5d4dfe92cf4f"
      },
      "source": [
        "columns = ['Words in Doc', 'class']\n",
        "rows = []\n",
        "\n",
        "rows = [['Kyoto Osaka Taiwan', 'yes'], \n",
        "        ['Japan Kyoto', 'yes'],\n",
        "        ['Taipei Taiwan', 'no'],\n",
        "        ['Macao Taiwan Shanghai', 'no'],\n",
        "        ['London', 'no']\n",
        "        ]\n",
        "\n",
        "training_data = pd.DataFrame(rows, columns=columns)\n",
        "training_data"
      ],
      "execution_count": null,
      "outputs": [
        {
          "output_type": "execute_result",
          "data": {
            "text/html": [
              "<div>\n",
              "<style scoped>\n",
              "    .dataframe tbody tr th:only-of-type {\n",
              "        vertical-align: middle;\n",
              "    }\n",
              "\n",
              "    .dataframe tbody tr th {\n",
              "        vertical-align: top;\n",
              "    }\n",
              "\n",
              "    .dataframe thead th {\n",
              "        text-align: right;\n",
              "    }\n",
              "</style>\n",
              "<table border=\"1\" class=\"dataframe\">\n",
              "  <thead>\n",
              "    <tr style=\"text-align: right;\">\n",
              "      <th></th>\n",
              "      <th>Words in Doc</th>\n",
              "      <th>class</th>\n",
              "    </tr>\n",
              "  </thead>\n",
              "  <tbody>\n",
              "    <tr>\n",
              "      <th>0</th>\n",
              "      <td>Kyoto Osaka Taiwan</td>\n",
              "      <td>yes</td>\n",
              "    </tr>\n",
              "    <tr>\n",
              "      <th>1</th>\n",
              "      <td>Japan Kyoto</td>\n",
              "      <td>yes</td>\n",
              "    </tr>\n",
              "    <tr>\n",
              "      <th>2</th>\n",
              "      <td>Taipei Taiwan</td>\n",
              "      <td>no</td>\n",
              "    </tr>\n",
              "    <tr>\n",
              "      <th>3</th>\n",
              "      <td>Macao Taiwan Shanghai</td>\n",
              "      <td>no</td>\n",
              "    </tr>\n",
              "    <tr>\n",
              "      <th>4</th>\n",
              "      <td>London</td>\n",
              "      <td>no</td>\n",
              "    </tr>\n",
              "  </tbody>\n",
              "</table>\n",
              "</div>"
            ],
            "text/plain": [
              "            Words in Doc class\n",
              "0     Kyoto Osaka Taiwan   yes\n",
              "1            Japan Kyoto   yes\n",
              "2          Taipei Taiwan    no\n",
              "3  Macao Taiwan Shanghai    no\n",
              "4                 London    no"
            ]
          },
          "metadata": {
            "tags": []
          },
          "execution_count": 78
        }
      ]
    },
    {
      "cell_type": "markdown",
      "metadata": {
        "id": "57xCpu1FOngZ"
      },
      "source": [
        "CLASS PROBABILITIES   | **PRIOR PROBABILITIES**\n"
      ]
    },
    {
      "cell_type": "code",
      "metadata": {
        "colab": {
          "base_uri": "https://localhost:8080/"
        },
        "id": "IdkRZMGxOlAQ",
        "outputId": "eee95c9c-949f-4d2e-a8f9-e17f6488b5b5"
      },
      "source": [
        "yes_count = 0 \n",
        "no_count = 0 \n",
        "for q in range(len(rows)):\n",
        "  if rows[q][1] == 'yes':\n",
        "    yes_count=yes_count+1\n",
        "  if rows[q][1] == 'no':\n",
        "    no_count=no_count+1\n",
        "\n",
        "class_yes = yes_count/len(rows)\n",
        "class_no = no_count/len(rows)\n",
        "class_yes , class_no"
      ],
      "execution_count": null,
      "outputs": [
        {
          "output_type": "execute_result",
          "data": {
            "text/plain": [
              "(0.4, 0.6)"
            ]
          },
          "metadata": {
            "tags": []
          },
          "execution_count": 79
        }
      ]
    },
    {
      "cell_type": "markdown",
      "metadata": {
        "id": "e7cvMI2513_E"
      },
      "source": [
        "**TERM DOCUMENT MATRIX FOR CLASS = \"YES\"**"
      ]
    },
    {
      "cell_type": "markdown",
      "metadata": {
        "id": "QCTIGTD1ptWc"
      },
      "source": [
        "****"
      ]
    },
    {
      "cell_type": "code",
      "metadata": {
        "colab": {
          "base_uri": "https://localhost:8080/",
          "height": 109
        },
        "id": "7RsyO2NL73vG",
        "outputId": "2f3c63c2-ba0d-4264-fcb6-8408a9a2f7a1"
      },
      "source": [
        "yes_docs = [row['Words in Doc'] for index,row in training_data.iterrows() if row['class'] == 'yes']\n",
        "vec_yes = CountVectorizer()\n",
        "X_yes = vec_yes.fit_transform(yes_docs)\n",
        "tdm_yes = pd.DataFrame(X_yes.toarray(), columns=vec_yes.get_feature_names())\n",
        "tdm_yes\n"
      ],
      "execution_count": null,
      "outputs": [
        {
          "output_type": "execute_result",
          "data": {
            "text/html": [
              "<div>\n",
              "<style scoped>\n",
              "    .dataframe tbody tr th:only-of-type {\n",
              "        vertical-align: middle;\n",
              "    }\n",
              "\n",
              "    .dataframe tbody tr th {\n",
              "        vertical-align: top;\n",
              "    }\n",
              "\n",
              "    .dataframe thead th {\n",
              "        text-align: right;\n",
              "    }\n",
              "</style>\n",
              "<table border=\"1\" class=\"dataframe\">\n",
              "  <thead>\n",
              "    <tr style=\"text-align: right;\">\n",
              "      <th></th>\n",
              "      <th>japan</th>\n",
              "      <th>kyoto</th>\n",
              "      <th>osaka</th>\n",
              "      <th>taiwan</th>\n",
              "    </tr>\n",
              "  </thead>\n",
              "  <tbody>\n",
              "    <tr>\n",
              "      <th>0</th>\n",
              "      <td>0</td>\n",
              "      <td>1</td>\n",
              "      <td>1</td>\n",
              "      <td>1</td>\n",
              "    </tr>\n",
              "    <tr>\n",
              "      <th>1</th>\n",
              "      <td>1</td>\n",
              "      <td>1</td>\n",
              "      <td>0</td>\n",
              "      <td>0</td>\n",
              "    </tr>\n",
              "  </tbody>\n",
              "</table>\n",
              "</div>"
            ],
            "text/plain": [
              "   japan  kyoto  osaka  taiwan\n",
              "0      0      1      1       1\n",
              "1      1      1      0       0"
            ]
          },
          "metadata": {
            "tags": []
          },
          "execution_count": 80
        }
      ]
    },
    {
      "cell_type": "markdown",
      "metadata": {
        "id": "DOSOYk2C2Ftm"
      },
      "source": [
        "**TERM DOCUMENT MATRIX FOR CLASS = \"NO\"**"
      ]
    },
    {
      "cell_type": "code",
      "metadata": {
        "colab": {
          "base_uri": "https://localhost:8080/",
          "height": 140
        },
        "id": "buGXbHtn74cP",
        "outputId": "7505778f-9ce0-4afa-81c5-b2e7b0f03fe1"
      },
      "source": [
        "no_docs = [row['Words in Doc'] for index,row in training_data.iterrows() if row['class'] == 'no']\n",
        "vec_no = CountVectorizer()\n",
        "X_no = vec_no.fit_transform(no_docs)\n",
        "tdm_no = pd.DataFrame(X_no.toarray(), columns=vec_no.get_feature_names())\n",
        "tdm_no\n"
      ],
      "execution_count": null,
      "outputs": [
        {
          "output_type": "execute_result",
          "data": {
            "text/html": [
              "<div>\n",
              "<style scoped>\n",
              "    .dataframe tbody tr th:only-of-type {\n",
              "        vertical-align: middle;\n",
              "    }\n",
              "\n",
              "    .dataframe tbody tr th {\n",
              "        vertical-align: top;\n",
              "    }\n",
              "\n",
              "    .dataframe thead th {\n",
              "        text-align: right;\n",
              "    }\n",
              "</style>\n",
              "<table border=\"1\" class=\"dataframe\">\n",
              "  <thead>\n",
              "    <tr style=\"text-align: right;\">\n",
              "      <th></th>\n",
              "      <th>london</th>\n",
              "      <th>macao</th>\n",
              "      <th>shanghai</th>\n",
              "      <th>taipei</th>\n",
              "      <th>taiwan</th>\n",
              "    </tr>\n",
              "  </thead>\n",
              "  <tbody>\n",
              "    <tr>\n",
              "      <th>0</th>\n",
              "      <td>0</td>\n",
              "      <td>0</td>\n",
              "      <td>0</td>\n",
              "      <td>1</td>\n",
              "      <td>1</td>\n",
              "    </tr>\n",
              "    <tr>\n",
              "      <th>1</th>\n",
              "      <td>0</td>\n",
              "      <td>1</td>\n",
              "      <td>1</td>\n",
              "      <td>0</td>\n",
              "      <td>1</td>\n",
              "    </tr>\n",
              "    <tr>\n",
              "      <th>2</th>\n",
              "      <td>1</td>\n",
              "      <td>0</td>\n",
              "      <td>0</td>\n",
              "      <td>0</td>\n",
              "      <td>0</td>\n",
              "    </tr>\n",
              "  </tbody>\n",
              "</table>\n",
              "</div>"
            ],
            "text/plain": [
              "   london  macao  shanghai  taipei  taiwan\n",
              "0       0      0         0       1       1\n",
              "1       0      1         1       0       1\n",
              "2       1      0         0       0       0"
            ]
          },
          "metadata": {
            "tags": []
          },
          "execution_count": 81
        }
      ]
    },
    {
      "cell_type": "markdown",
      "metadata": {
        "id": "nqso2iGf2O-J"
      },
      "source": [
        "**WORD COUNT FOR CLASS = YES**"
      ]
    },
    {
      "cell_type": "code",
      "metadata": {
        "colab": {
          "base_uri": "https://localhost:8080/"
        },
        "id": "RhRhWo3U-_Rv",
        "outputId": "2188b090-5527-4f5f-f8a5-fda4a9f2fef0"
      },
      "source": [
        "word_list_yes = vec_yes.get_feature_names();    \n",
        "count_list_yes = X_yes.toarray().sum(axis=0) \n",
        "freq_yes = dict(zip(word_list_yes,count_list_yes))\n",
        "freq_yes"
      ],
      "execution_count": null,
      "outputs": [
        {
          "output_type": "execute_result",
          "data": {
            "text/plain": [
              "{'japan': 1, 'kyoto': 2, 'osaka': 1, 'taiwan': 1}"
            ]
          },
          "metadata": {
            "tags": []
          },
          "execution_count": 82
        }
      ]
    },
    {
      "cell_type": "markdown",
      "metadata": {
        "id": "ij_8THRc2ZE4"
      },
      "source": [
        "**WORD COUNT FOR CLASS = NO**"
      ]
    },
    {
      "cell_type": "code",
      "metadata": {
        "colab": {
          "base_uri": "https://localhost:8080/"
        },
        "id": "_cNcQnm0_LqO",
        "outputId": "61110f26-a4d4-402c-862c-49b9bb2a7dc3"
      },
      "source": [
        "\n",
        "word_list_no = vec_no.get_feature_names();    \n",
        "count_list_no = X_no.toarray().sum(axis=0) \n",
        "freq_no = dict(zip(word_list_no,count_list_no))\n",
        "freq_no"
      ],
      "execution_count": null,
      "outputs": [
        {
          "output_type": "execute_result",
          "data": {
            "text/plain": [
              "{'london': 1, 'macao': 1, 'shanghai': 1, 'taipei': 1, 'taiwan': 2}"
            ]
          },
          "metadata": {
            "tags": []
          },
          "execution_count": 83
        }
      ]
    },
    {
      "cell_type": "markdown",
      "metadata": {
        "id": "EqSlN9KALoEA"
      },
      "source": [
        "TOTAL WORDS IN DICTIONARY "
      ]
    },
    {
      "cell_type": "code",
      "metadata": {
        "colab": {
          "base_uri": "https://localhost:8080/"
        },
        "id": "uxcs4MhPLkZp",
        "outputId": "bbbac8ef-adba-4939-9d8c-0e67f23e2f9b"
      },
      "source": [
        "dictionary = list(set(word_list_yes) | set(word_list_no))\n",
        "dictionary,len(dictionary)"
      ],
      "execution_count": null,
      "outputs": [
        {
          "output_type": "execute_result",
          "data": {
            "text/plain": [
              "(['london',\n",
              "  'shanghai',\n",
              "  'macao',\n",
              "  'taipei',\n",
              "  'japan',\n",
              "  'osaka',\n",
              "  'taiwan',\n",
              "  'kyoto'],\n",
              " 8)"
            ]
          },
          "metadata": {
            "tags": []
          },
          "execution_count": 84
        }
      ]
    },
    {
      "cell_type": "markdown",
      "metadata": {
        "id": "PsZ4FsDS2h20"
      },
      "source": [
        "**PROBABILITIY OF WORDS BELONGING TO CLASS = YES**"
      ]
    },
    {
      "cell_type": "code",
      "metadata": {
        "colab": {
          "base_uri": "https://localhost:8080/"
        },
        "id": "1yjdw3eG_s75",
        "outputId": "5f02db36-af49-4e7c-9756-347f86d6b366"
      },
      "source": [
        "prob_yes = []\n",
        "for word,count in zip(word_list_yes,count_list_yes):\n",
        "  prob_yes.append((count+1)/(sum(count_list_yes)+len(dictionary)))\n",
        "yes_dict = dict(zip(word_list_yes,prob_yes))\n",
        "\n",
        "yes_dict"
      ],
      "execution_count": null,
      "outputs": [
        {
          "output_type": "execute_result",
          "data": {
            "text/plain": [
              "{'japan': 0.15384615384615385,\n",
              " 'kyoto': 0.23076923076923078,\n",
              " 'osaka': 0.15384615384615385,\n",
              " 'taiwan': 0.15384615384615385}"
            ]
          },
          "metadata": {
            "tags": []
          },
          "execution_count": 85
        }
      ]
    },
    {
      "cell_type": "code",
      "metadata": {
        "colab": {
          "base_uri": "https://localhost:8080/"
        },
        "id": "rt7egwLxyWJU",
        "outputId": "82ecc530-7084-4057-d6c1-4b404bb342b9"
      },
      "source": [
        "pro_yesno = []\n",
        "difference = set(dictionary).symmetric_difference(set(word_list_yes))\n",
        "yes_no = list(difference)\n",
        "\n",
        "for word in zip(yes_no , count_list_yes):\n",
        "  pro_yesno.append(1/(sum(count_list_yes)+len(dictionary)))\n",
        "yesno_dic = dict(zip(yes_no,pro_yesno))\n",
        "yesno_dic"
      ],
      "execution_count": null,
      "outputs": [
        {
          "output_type": "execute_result",
          "data": {
            "text/plain": [
              "{'london': 0.07692307692307693,\n",
              " 'macao': 0.07692307692307693,\n",
              " 'shanghai': 0.07692307692307693,\n",
              " 'taipei': 0.07692307692307693}"
            ]
          },
          "metadata": {
            "tags": []
          },
          "execution_count": 86
        }
      ]
    },
    {
      "cell_type": "code",
      "metadata": {
        "colab": {
          "base_uri": "https://localhost:8080/"
        },
        "id": "staqe-ak2xxt",
        "outputId": "f0a52463-7ac6-4e50-84c7-cbbd7f27ea35"
      },
      "source": [
        "final_yes_probabilities=yes_dict.update(yesno_dic)\n",
        "yes_dict"
      ],
      "execution_count": null,
      "outputs": [
        {
          "output_type": "execute_result",
          "data": {
            "text/plain": [
              "{'japan': 0.15384615384615385,\n",
              " 'kyoto': 0.23076923076923078,\n",
              " 'london': 0.07692307692307693,\n",
              " 'macao': 0.07692307692307693,\n",
              " 'osaka': 0.15384615384615385,\n",
              " 'shanghai': 0.07692307692307693,\n",
              " 'taipei': 0.07692307692307693,\n",
              " 'taiwan': 0.15384615384615385}"
            ]
          },
          "metadata": {
            "tags": []
          },
          "execution_count": 87
        }
      ]
    },
    {
      "cell_type": "markdown",
      "metadata": {
        "id": "zFK_XVni3DCp"
      },
      "source": [
        "**PROBABILITY OF WORDS BELONGING TO CLASS = NO**"
      ]
    },
    {
      "cell_type": "code",
      "metadata": {
        "colab": {
          "base_uri": "https://localhost:8080/"
        },
        "id": "zcXGNub5AMyX",
        "outputId": "832a2345-74ab-4f36-dc98-22f2e6cbc995"
      },
      "source": [
        "prob_no = []\n",
        "for count in count_list_no:\n",
        "  prob_no.append((count+1)/(sum(count_list_no)+len(dictionary)))\n",
        "no_dict=dict(zip(word_list_no,prob_no))\n",
        "no_dict"
      ],
      "execution_count": null,
      "outputs": [
        {
          "output_type": "execute_result",
          "data": {
            "text/plain": [
              "{'london': 0.14285714285714285,\n",
              " 'macao': 0.14285714285714285,\n",
              " 'shanghai': 0.14285714285714285,\n",
              " 'taipei': 0.14285714285714285,\n",
              " 'taiwan': 0.21428571428571427}"
            ]
          },
          "metadata": {
            "tags": []
          },
          "execution_count": 88
        }
      ]
    },
    {
      "cell_type": "code",
      "metadata": {
        "colab": {
          "base_uri": "https://localhost:8080/"
        },
        "id": "ZpBbF0Ig3bja",
        "outputId": "5771c8a6-65ac-495f-c0ef-03097863e170"
      },
      "source": [
        "pro_noyes = []\n",
        "difference = set(dictionary).symmetric_difference(set(word_list_no))\n",
        "no_yes = list(difference)\n",
        "\n",
        "for word in zip(no_yes , count_list_no):\n",
        "  pro_noyes.append(1/(sum(count_list_no)+len(dictionary)))\n",
        "\n",
        "noyes_dic = dict(zip(no_yes,pro_noyes))\n",
        "noyes_dic"
      ],
      "execution_count": null,
      "outputs": [
        {
          "output_type": "execute_result",
          "data": {
            "text/plain": [
              "{'japan': 0.07142857142857142,\n",
              " 'kyoto': 0.07142857142857142,\n",
              " 'osaka': 0.07142857142857142}"
            ]
          },
          "metadata": {
            "tags": []
          },
          "execution_count": 89
        }
      ]
    },
    {
      "cell_type": "code",
      "metadata": {
        "colab": {
          "base_uri": "https://localhost:8080/"
        },
        "id": "XksZWp5d3bVg",
        "outputId": "ce3b8e50-3ac5-4318-a75c-09bf6ca78532"
      },
      "source": [
        "final_no_probabilities=no_dict.update(noyes_dic)\n",
        "no_dict"
      ],
      "execution_count": null,
      "outputs": [
        {
          "output_type": "execute_result",
          "data": {
            "text/plain": [
              "{'japan': 0.07142857142857142,\n",
              " 'kyoto': 0.07142857142857142,\n",
              " 'london': 0.14285714285714285,\n",
              " 'macao': 0.14285714285714285,\n",
              " 'osaka': 0.07142857142857142,\n",
              " 'shanghai': 0.14285714285714285,\n",
              " 'taipei': 0.14285714285714285,\n",
              " 'taiwan': 0.21428571428571427}"
            ]
          },
          "metadata": {
            "tags": []
          },
          "execution_count": 90
        }
      ]
    },
    {
      "cell_type": "markdown",
      "metadata": {
        "id": "CApC2OYk3XdM"
      },
      "source": [
        "**PREPARING THE TEST CASE - TAIWAN TAIWAN KYOTO**"
      ]
    },
    {
      "cell_type": "code",
      "metadata": {
        "id": "6lixdISBBQP_",
        "colab": {
          "base_uri": "https://localhost:8080/"
        },
        "outputId": "3bb5369a-756b-49be-eb64-3348774f6a44"
      },
      "source": [
        "new_sentence = 'taiwan taiwan kyoto'\n",
        "new_word_list = word_tokenize(new_sentence)\n",
        "new_word_list"
      ],
      "execution_count": null,
      "outputs": [
        {
          "output_type": "execute_result",
          "data": {
            "text/plain": [
              "['taiwan', 'taiwan', 'kyoto']"
            ]
          },
          "metadata": {
            "tags": []
          },
          "execution_count": 91
        }
      ]
    },
    {
      "cell_type": "markdown",
      "metadata": {
        "id": "zjur-F4L3hYr"
      },
      "source": [
        "**FINDING PROBABILITY THAT TEST CASE BELONGS TO CLASS = YES**"
      ]
    },
    {
      "cell_type": "code",
      "metadata": {
        "colab": {
          "base_uri": "https://localhost:8080/"
        },
        "id": "oVoY77pjBcyb",
        "outputId": "6bc21cb9-ae9a-448c-c5b7-53aa3e4e1c7a"
      },
      "source": [
        "final_probability_yes = class_yes\n",
        "for j in range(len(new_word_list)):\n",
        "  final_probability_yes = yes_dict[new_word_list[j]]*final_probability_yes\n",
        "\n",
        "final_probability_yes"
      ],
      "execution_count": null,
      "outputs": [
        {
          "output_type": "execute_result",
          "data": {
            "text/plain": [
              "0.002184797451069641"
            ]
          },
          "metadata": {
            "tags": []
          },
          "execution_count": 92
        }
      ]
    },
    {
      "cell_type": "markdown",
      "metadata": {
        "id": "zHaYeodZ3rMr"
      },
      "source": [
        "**FINDING PROBABILITY THAT TEST CASE BELONGS TO CLASS = NO**"
      ]
    },
    {
      "cell_type": "code",
      "metadata": {
        "colab": {
          "base_uri": "https://localhost:8080/"
        },
        "id": "Xl6CeInIBtgx",
        "outputId": "5f61949e-2fc0-4da7-83f6-8603cfb03751"
      },
      "source": [
        "final_probability_no = class_no\n",
        "for r in range(len(new_word_list)):\n",
        "  final_probability_no = no_dict[new_word_list[r]]*final_probability_no\n",
        "\n",
        "final_probability_no"
      ],
      "execution_count": null,
      "outputs": [
        {
          "output_type": "execute_result",
          "data": {
            "text/plain": [
              "0.0019679300291545188"
            ]
          },
          "metadata": {
            "tags": []
          },
          "execution_count": 93
        }
      ]
    },
    {
      "cell_type": "markdown",
      "metadata": {
        "id": "asYuW7xC3vFC"
      },
      "source": [
        "**FINAL RESULT WHERE EITHER OF THE CLASS = YES OR NO WINS**"
      ]
    },
    {
      "cell_type": "code",
      "metadata": {
        "colab": {
          "base_uri": "https://localhost:8080/",
          "height": 95
        },
        "id": "0Z2l0dlGB7xZ",
        "outputId": "4ac2720c-197a-43f7-dc37-6534651b71aa"
      },
      "source": [
        "predicted_data=[];\n",
        "\n",
        "if(final_probability_no > final_probability_yes):\n",
        "  print(\"the test data - Taiwan Taiwan Kyoto belongs to class NO \")\n",
        "  predicted_data.append(['taiwan taiwan kyoto','no'])\n",
        "  predicted_data=pd.DataFrame(predicted_data)\n",
        "\n",
        "else:\n",
        "  print(\"the test data - Taiwan Taiwan Kyoto belongs to class YES \")\n",
        "  predicted_data.append(['taiwan taiwan kyoto','yes'])\n",
        "  predicted_data=pd.DataFrame(predicted_data)\n",
        "\n",
        "\n",
        "predicted_data.columns=['TEST DATA','PREDICTED CLASS']\n",
        "predicted_data"
      ],
      "execution_count": null,
      "outputs": [
        {
          "output_type": "stream",
          "text": [
            "the test data - Taiwan Taiwan Kyoto belongs to class YES \n"
          ],
          "name": "stdout"
        },
        {
          "output_type": "execute_result",
          "data": {
            "text/html": [
              "<div>\n",
              "<style scoped>\n",
              "    .dataframe tbody tr th:only-of-type {\n",
              "        vertical-align: middle;\n",
              "    }\n",
              "\n",
              "    .dataframe tbody tr th {\n",
              "        vertical-align: top;\n",
              "    }\n",
              "\n",
              "    .dataframe thead th {\n",
              "        text-align: right;\n",
              "    }\n",
              "</style>\n",
              "<table border=\"1\" class=\"dataframe\">\n",
              "  <thead>\n",
              "    <tr style=\"text-align: right;\">\n",
              "      <th></th>\n",
              "      <th>TEST DATA</th>\n",
              "      <th>PREDICTED CLASS</th>\n",
              "    </tr>\n",
              "  </thead>\n",
              "  <tbody>\n",
              "    <tr>\n",
              "      <th>0</th>\n",
              "      <td>taiwan taiwan kyoto</td>\n",
              "      <td>yes</td>\n",
              "    </tr>\n",
              "  </tbody>\n",
              "</table>\n",
              "</div>"
            ],
            "text/plain": [
              "             TEST DATA PREDICTED CLASS\n",
              "0  taiwan taiwan kyoto             yes"
            ]
          },
          "metadata": {
            "tags": []
          },
          "execution_count": 94
        }
      ]
    },
    {
      "cell_type": "markdown",
      "metadata": {
        "id": "xsJnN6LWMqG9"
      },
      "source": [
        "**EVALUATION**"
      ]
    },
    {
      "cell_type": "code",
      "metadata": {
        "id": "DfddsgzNCOH1",
        "colab": {
          "base_uri": "https://localhost:8080/",
          "height": 78
        },
        "outputId": "c998e302-9901-4c31-fab6-495114df2e07"
      },
      "source": [
        "#defining the actual data\n",
        "test_data = [['taiwan taiwan kyoto','yes']]\n",
        "true_data = pd.DataFrame(test_data)\n",
        "true_data.columns = ['TEST DATA','TRUE CLASS']\n",
        "true_data"
      ],
      "execution_count": null,
      "outputs": [
        {
          "output_type": "execute_result",
          "data": {
            "text/html": [
              "<div>\n",
              "<style scoped>\n",
              "    .dataframe tbody tr th:only-of-type {\n",
              "        vertical-align: middle;\n",
              "    }\n",
              "\n",
              "    .dataframe tbody tr th {\n",
              "        vertical-align: top;\n",
              "    }\n",
              "\n",
              "    .dataframe thead th {\n",
              "        text-align: right;\n",
              "    }\n",
              "</style>\n",
              "<table border=\"1\" class=\"dataframe\">\n",
              "  <thead>\n",
              "    <tr style=\"text-align: right;\">\n",
              "      <th></th>\n",
              "      <th>TEST DATA</th>\n",
              "      <th>TRUE CLASS</th>\n",
              "    </tr>\n",
              "  </thead>\n",
              "  <tbody>\n",
              "    <tr>\n",
              "      <th>0</th>\n",
              "      <td>taiwan taiwan kyoto</td>\n",
              "      <td>yes</td>\n",
              "    </tr>\n",
              "  </tbody>\n",
              "</table>\n",
              "</div>"
            ],
            "text/plain": [
              "             TEST DATA TRUE CLASS\n",
              "0  taiwan taiwan kyoto        yes"
            ]
          },
          "metadata": {
            "tags": []
          },
          "execution_count": 95
        }
      ]
    },
    {
      "cell_type": "code",
      "metadata": {
        "colab": {
          "base_uri": "https://localhost:8080/"
        },
        "id": "ZkDJjbnwNEkf",
        "outputId": "1506742e-17aa-45bc-fad8-dd5059ed94cf"
      },
      "source": [
        "df =pd.DataFrame()\n",
        "true_positive = 0\n",
        "false_positive = 0 \n",
        "true_negative = 0 \n",
        "false_negative = 0 \n",
        "for i in range(len(true_data)):\n",
        "  for j in range(len(predicted_data)):\n",
        "   if((true_data['TEST DATA'][i] == predicted_data['TEST DATA'][j] )):\n",
        "     if(true_data['TRUE CLASS'][i] == 'yes'):\n",
        "       if(predicted_data['PREDICTED CLASS'][j] == 'yes'):\n",
        "         true_positive = true_positive+1\n",
        "       else:\n",
        "         false_negative = false_negative + 1\n",
        "     if(true_data['TRUE CLASS'][i] == 'no'):\n",
        "       if(predicted_data['PREDICTED CLASS'][j] == 'yes'):\n",
        "         false_positive = false_positive+1\n",
        "       else:\n",
        "         true_negative = true_negative + 1\n",
        "      \n",
        "true_positive,false_positive,false_negative,true_negative"
      ],
      "execution_count": null,
      "outputs": [
        {
          "output_type": "execute_result",
          "data": {
            "text/plain": [
              "(1, 0, 0, 0)"
            ]
          },
          "metadata": {
            "tags": []
          },
          "execution_count": 100
        }
      ]
    },
    {
      "cell_type": "markdown",
      "metadata": {
        "id": "rZreAhmRX6yC"
      },
      "source": [
        "**CONFUSION MATRIX**"
      ]
    },
    {
      "cell_type": "code",
      "metadata": {
        "id": "CDQqja7SNeIt"
      },
      "source": [
        "confusion_matrix=[[true_positive,false_positive],[false_negative,true_negative]]\n",
        "confusion_matrix = pd.DataFrame(confusion_matrix)\n",
        "confusion_matrix.columns =['ACTUAL YES CLASS', 'ACTUAL NO CLASS']\n",
        "confusion_matrix.index = ['PREDICTED TO BE IN YES CLASS', 'PREDICTED TO BE IN NO CLASS']"
      ],
      "execution_count": null,
      "outputs": []
    },
    {
      "cell_type": "code",
      "metadata": {
        "colab": {
          "base_uri": "https://localhost:8080/",
          "height": 109
        },
        "id": "BAxJbsNVQqL0",
        "outputId": "5cb8ead3-e888-40f5-ba0b-20d46efa5973"
      },
      "source": [
        "confusion_matrix"
      ],
      "execution_count": null,
      "outputs": [
        {
          "output_type": "execute_result",
          "data": {
            "text/html": [
              "<div>\n",
              "<style scoped>\n",
              "    .dataframe tbody tr th:only-of-type {\n",
              "        vertical-align: middle;\n",
              "    }\n",
              "\n",
              "    .dataframe tbody tr th {\n",
              "        vertical-align: top;\n",
              "    }\n",
              "\n",
              "    .dataframe thead th {\n",
              "        text-align: right;\n",
              "    }\n",
              "</style>\n",
              "<table border=\"1\" class=\"dataframe\">\n",
              "  <thead>\n",
              "    <tr style=\"text-align: right;\">\n",
              "      <th></th>\n",
              "      <th>ACTUAL YES CLASS</th>\n",
              "      <th>ACTUAL NO CLASS</th>\n",
              "    </tr>\n",
              "  </thead>\n",
              "  <tbody>\n",
              "    <tr>\n",
              "      <th>PREDICTED TO BE IN YES CLASS</th>\n",
              "      <td>1</td>\n",
              "      <td>0</td>\n",
              "    </tr>\n",
              "    <tr>\n",
              "      <th>PREDICTED TO BE IN NO CLASS</th>\n",
              "      <td>0</td>\n",
              "      <td>0</td>\n",
              "    </tr>\n",
              "  </tbody>\n",
              "</table>\n",
              "</div>"
            ],
            "text/plain": [
              "                              ACTUAL YES CLASS  ACTUAL NO CLASS\n",
              "PREDICTED TO BE IN YES CLASS                 1                0\n",
              "PREDICTED TO BE IN NO CLASS                  0                0"
            ]
          },
          "metadata": {
            "tags": []
          },
          "execution_count": 98
        }
      ]
    },
    {
      "cell_type": "markdown",
      "metadata": {
        "id": "JUWqAllxZH5v"
      },
      "source": [
        "**PRECISION AND RECALL**"
      ]
    },
    {
      "cell_type": "code",
      "metadata": {
        "colab": {
          "base_uri": "https://localhost:8080/"
        },
        "id": "JCqDu6qHQWjc",
        "outputId": "e49f55a2-1712-4fe7-9814-e1d8083ca880"
      },
      "source": [
        "precision=true_positive/(true_positive+false_positive)\n",
        "recall = true_positive/(true_positive+false_negative)\n",
        "F1_value = 2*precision*recall/(precision+recall)\n",
        "\n",
        "print(\"THE PRECISION IS:\"+str(precision)+\"\\nTHE RECALL IS :\"\n",
        "+str(recall)+\"\\nTHE F1 VALUE IS :\"+str(F1_value))"
      ],
      "execution_count": null,
      "outputs": [
        {
          "output_type": "stream",
          "text": [
            "THE PRECISION IS:1.0\n",
            "THE RECALL IS :1.0\n",
            "THE F1 VALUE IS :1.0\n"
          ],
          "name": "stdout"
        }
      ]
    },
    {
      "cell_type": "code",
      "metadata": {
        "id": "j-PBmTO-Zx69"
      },
      "source": [
        ""
      ],
      "execution_count": null,
      "outputs": []
    }
  ]
}